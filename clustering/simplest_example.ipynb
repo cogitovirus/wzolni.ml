{
 "cells": [
  {
   "cell_type": "code",
   "execution_count": 1,
   "metadata": {},
   "outputs": [],
   "source": [
    "from sklearn.cluster import KMeans\n",
    "import numpy as np"
   ]
  },
  {
   "cell_type": "code",
   "execution_count": 2,
   "metadata": {},
   "outputs": [
    {
     "name": "stdout",
     "output_type": "stream",
     "text": [
      "[1 0 2 2 2 1 1 2 2 0 2 2 0 2 0 0 0 1 1 0 0 0 1 1 1 0 1 0 0 1 1 1 1 0 1 0 0\n",
      " 1 2 1 2 2 0 2 0 2 2 0 2 2 1 2 1 0 2 0 2 0 0 2 0 2 0 0 0 1 0 1 1 2 0 2 0 2\n",
      " 1 0 1 0 2 0 0 2 2 0 2 0 0 2 2 1 0 1 2 0 1 2 0 1 2 0]\n"
     ]
    }
   ],
   "source": [
    "data = np.random.rand(100, 2)\n",
    "\n",
    "kmeans = KMeans(n_clusters=3)\n",
    "kmeans.fit(data)\n",
    "predictions = kmeans.predict(data)\n",
    "print(predictions)"
   ]
  }
 ],
 "metadata": {
  "kernelspec": {
   "display_name": "venv",
   "language": "python",
   "name": "python3"
  },
  "language_info": {
   "codemirror_mode": {
    "name": "ipython",
    "version": 3
   },
   "file_extension": ".py",
   "mimetype": "text/x-python",
   "name": "python",
   "nbconvert_exporter": "python",
   "pygments_lexer": "ipython3",
   "version": "3.12.4"
  }
 },
 "nbformat": 4,
 "nbformat_minor": 2
}
